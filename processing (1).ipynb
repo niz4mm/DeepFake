{
 "cells": [
  {
   "cell_type": "code",
   "execution_count": 4,
   "metadata": {},
   "outputs": [
    {
     "name": "stdout",
     "output_type": "stream",
     "text": [
      "Found 778 images belonging to 2 classes.\n",
      "Found 193 images belonging to 2 classes.\n",
      "Class Indices: {'AiArtData': 0, 'RealArt': 1}\n"
     ]
    }
   ],
   "source": [
    "import os\n",
    "import numpy as np\n",
    "import tensorflow as tf\n",
    "from tensorflow.keras.preprocessing.image import ImageDataGenerator\n",
    "\n",
    "# Set dataset path (Replace with the actual path where you extracted the dataset)\n",
    "DATASET_PATH = r\"C:\\Users\\PC\\Desktop\\project deepfake\\Data\"\n",
    "\n",
    "# Define image size and batch size\n",
    "IMAGE_SIZE = (128, 128)  # Resize all images to 128x128\n",
    "BATCH_SIZE = 32\n",
    "\n",
    "# Data augmentation and rescaling\n",
    "datagen = ImageDataGenerator(\n",
    "    rescale=1./255,      # Normalize pixel values (0-1)\n",
    "    validation_split=0.2  # Use 80% data for training, 20% for validation\n",
    ")\n",
    "\n",
    "# Load training images\n",
    "train_generator = datagen.flow_from_directory(\n",
    "    DATASET_PATH,\n",
    "    target_size=IMAGE_SIZE,\n",
    "    batch_size=BATCH_SIZE,\n",
    "    class_mode='binary',\n",
    "    subset='training'   # Training subset\n",
    ")\n",
    "\n",
    "# Load validation images\n",
    "val_generator = datagen.flow_from_directory(\n",
    "    DATASET_PATH,\n",
    "    target_size=IMAGE_SIZE,\n",
    "    batch_size=BATCH_SIZE,\n",
    "    class_mode='binary',\n",
    "    subset='validation'  # Validation subset\n",
    ")\n",
    "\n",
    "# Check class labels\n",
    "print(\"Class Indices:\", train_generator.class_indices)\n"
   ]
  }
 ],
 "metadata": {
  "kernelspec": {
   "display_name": "base",
   "language": "python",
   "name": "python3"
  },
  "language_info": {
   "codemirror_mode": {
    "name": "ipython",
    "version": 3
   },
   "file_extension": ".py",
   "mimetype": "text/x-python",
   "name": "python",
   "nbconvert_exporter": "python",
   "pygments_lexer": "ipython3",
   "version": "3.12.7"
  }
 },
 "nbformat": 4,
 "nbformat_minor": 2
}
